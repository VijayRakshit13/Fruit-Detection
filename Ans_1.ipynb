{
  "nbformat": 4,
  "nbformat_minor": 0,
  "metadata": {
    "colab": {
      "name": "Ans 1",
      "provenance": [],
      "collapsed_sections": []
    },
    "kernelspec": {
      "name": "python3",
      "display_name": "Python 3"
    },
    "language_info": {
      "name": "python"
    }
  },
  "cells": [
    {
      "cell_type": "markdown",
      "source": [
        "**Training**\n"
      ],
      "metadata": {
        "id": "HLqEJUBJnplN"
      }
    },
    {
      "cell_type": "code",
      "execution_count": null,
      "metadata": {
        "id": "vGPdtNn__HGH"
      },
      "outputs": [],
      "source": [
        "import numpy as np\n",
        "import cv2 as cv\n",
        "import matplotlib.pyplot as plt\n",
        "import os\n",
        "import pandas as pd\n",
        "from pathlib import Path\n",
        "from keras.preprocessing import image\n",
        "from skimage import filters\n",
        "from sklearn.model_selection import GridSearchCV, train_test_split\n",
        "from skimage.io import imread\n",
        "from skimage.feature import hog\n",
        "import scipy"
      ]
    },
    {
      "cell_type": "code",
      "source": [
        "!git clone https://github.com/Horea94/Fruit-Images-Dataset.git\n",
        "os.getcwd(),os.listdir('Fruit-Images-Dataset')"
      ],
      "metadata": {
        "colab": {
          "base_uri": "https://localhost:8080/"
        },
        "id": "nQBX6HH-_TD7",
        "outputId": "57ec6ee0-4d15-4553-bbd8-9bc9fccae0bf"
      },
      "execution_count": null,
      "outputs": [
        {
          "output_type": "stream",
          "name": "stdout",
          "text": [
            "Cloning into 'Fruit-Images-Dataset'...\n",
            "remote: Enumerating objects: 385858, done.\u001b[K\n",
            "remote: Counting objects: 100% (8693/8693), done.\u001b[K\n",
            "remote: Compressing objects: 100% (8672/8672), done.\u001b[K\n"
          ]
        }
      ]
    },
    {
      "cell_type": "code",
      "source": [
        "fruits = os.listdir(\"/content/Fruit-Images-Dataset/Training\")\n",
        "print(fruits)"
      ],
      "metadata": {
        "id": "qO2e9FGbFPCf"
      },
      "execution_count": null,
      "outputs": []
    },
    {
      "cell_type": "code",
      "source": [
        "\n",
        "index=0\n",
        "hog_mean=dict()\n",
        "for folder in fruits:\n",
        "  sum = np.zeros((1296))\n",
        "  fldr = os.listdir(\"/content/Fruit-Images-Dataset/Training/\"+folder)\n",
        "  c = 0\n",
        "  for i in  range(0,len(fldr),5):  #remove 5 for running on full dataset\n",
        "    c+=1\n",
        "    imag = fldr[i]\n",
        "    im = cv.imread((\"/content/Fruit-Images-Dataset/Training/\"+folder+\"/\"+imag))\n",
        "    im = cv.resize(im,(50,50))\n",
        "    fv = hog(im)\n",
        "    sum = sum + np.array(fv)\n",
        "  hog_mean[index ]= sum / c\n",
        "  index +=1"
      ],
      "metadata": {
        "id": "UiA-uWV0P4r6"
      },
      "execution_count": null,
      "outputs": []
    },
    {
      "cell_type": "code",
      "source": [
        "train = dict()\n",
        "for i in range(len(fruits)):\n",
        "  train[fruits[i]] = hog_mean[i]"
      ],
      "metadata": {
        "id": "QhnhaSt1k9vD"
      },
      "execution_count": null,
      "outputs": []
    },
    {
      "cell_type": "markdown",
      "source": [
        "\n",
        "\n",
        "**Testing**\n"
      ],
      "metadata": {
        "id": "gYWKMbdFnXjy"
      }
    },
    {
      "cell_type": "code",
      "source": [
        "tfruits = os.listdir(\"/content/Fruit-Images-Dataset/Test\")\n",
        "print(tfruits)"
      ],
      "metadata": {
        "id": "Evq6lDwMnZyz"
      },
      "execution_count": null,
      "outputs": []
    },
    {
      "cell_type": "code",
      "source": [
        "def distance(hv,arr):\n",
        "  mn = 10**64\n",
        "  label = \"\"\n",
        "  for x in arr:\n",
        "    dist = scipy.spatial.distance.euclidean(hv,arr[x])\n",
        "    if dist <= mn:\n",
        "      mn = dist\n",
        "      label = x\n",
        "  return label\n",
        "\n",
        "test = dict()\n",
        "\n",
        "for folder in tfruits:\n",
        "    test[folder] = []\n",
        "    tfldr = os.listdir(\"/content/Fruit-Images-Dataset/Test/\"+folder)\n",
        "    for i in  range(0,len(tfldr)):\n",
        "      imag = tfldr[i]\n",
        "      im = cv.imread((\"/content/Fruit-Images-Dataset/Test/\"+folder+\"/\"+imag))\n",
        "      im = cv.resize(im,(50,50))\n",
        "      fv = hog(im)\n",
        "      \n",
        "      test[folder].append(distance(fv,train))\n",
        "\n",
        "    "
      ],
      "metadata": {
        "id": "BsTGWJu7oYrS"
      },
      "execution_count": null,
      "outputs": []
    },
    {
      "cell_type": "code",
      "source": [
        "count = 0\n",
        "c  = 0\n",
        "for i in test: \n",
        "  for x in test[i]:\n",
        "    c += 1\n",
        "    if x == i:\n",
        "      count +=1\n",
        "print(\"accuracy = \",count/c)"
      ],
      "metadata": {
        "id": "PeNkwmAgwdUR"
      },
      "execution_count": null,
      "outputs": []
    }
  ]
}